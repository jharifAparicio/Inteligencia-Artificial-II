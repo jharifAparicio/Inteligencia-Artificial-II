{
 "cells": [
  {
   "cell_type": "code",
   "execution_count": null,
   "id": "63c411b1",
   "metadata": {},
   "outputs": [],
   "source": [
    "!pip install selenium webdriver-manager"
   ]
  },
  {
   "cell_type": "code",
   "execution_count": 1,
   "id": "853d27d0",
   "metadata": {},
   "outputs": [],
   "source": [
    "import requests\n",
    "from bs4 import BeautifulSoup\n",
    "import pandas as pd"
   ]
  },
  {
   "cell_type": "code",
   "execution_count": 5,
   "id": "ea6f2c4b",
   "metadata": {},
   "outputs": [
    {
     "data": {
      "text/html": [
       "<div>\n",
       "<style scoped>\n",
       "    .dataframe tbody tr th:only-of-type {\n",
       "        vertical-align: middle;\n",
       "    }\n",
       "\n",
       "    .dataframe tbody tr th {\n",
       "        vertical-align: top;\n",
       "    }\n",
       "\n",
       "    .dataframe thead th {\n",
       "        text-align: right;\n",
       "    }\n",
       "</style>\n",
       "<table border=\"1\" class=\"dataframe\">\n",
       "  <thead>\n",
       "    <tr style=\"text-align: right;\">\n",
       "      <th></th>\n",
       "    </tr>\n",
       "  </thead>\n",
       "  <tbody>\n",
       "  </tbody>\n",
       "</table>\n",
       "</div>"
      ],
      "text/plain": [
       "Empty DataFrame\n",
       "Columns: []\n",
       "Index: []"
      ]
     },
     "execution_count": 5,
     "metadata": {},
     "output_type": "execute_result"
    }
   ],
   "source": [
    "from selenium import webdriver\n",
    "from selenium.webdriver.chrome.service import Service\n",
    "from selenium.webdriver.common.by import By\n",
    "from webdriver_manager.chrome import ChromeDriverManager\n",
    "import pandas as pd\n",
    "import time\n",
    "\n",
    "# Configurar Chrome en modo headless (sin ventana)\n",
    "options = webdriver.ChromeOptions()\n",
    "options.add_argument('--headless')\n",
    "options.add_argument('--no-sandbox')\n",
    "options.add_argument('--disable-dev-shm-usage')\n",
    "\n",
    "driver = webdriver.Chrome(service=Service(ChromeDriverManager().install()), options=options)\n",
    "\n",
    "url = 'https://fsa.bo/listarProductos/5cc0d36e967ac33c14005089'\n",
    "driver.get(url)\n",
    "\n",
    "# Esperar a que cargue el contenido dinámico\n",
    "time.sleep(5)\n",
    "\n",
    "# Buscar productos\n",
    "productos = driver.find_elements(By.CLASS_NAME, 'product-item')\n",
    "\n",
    "datos = []\n",
    "for p in productos:\n",
    "    nombre = p.find_element(By.TAG_NAME, 'h3').text\n",
    "    precio = p.find_element(By.CLASS_NAME, 'price').text\n",
    "    link = p.find_element(By.TAG_NAME, 'a').get_attribute('href')\n",
    "    datos.append({\n",
    "        'nombre': nombre,\n",
    "        'precio': precio,\n",
    "        'link': link\n",
    "    })\n",
    "\n",
    "driver.quit()\n",
    "\n",
    "import pandas as pd\n",
    "df = pd.DataFrame(datos)\n",
    "df.head()\n"
   ]
  },
  {
   "cell_type": "code",
   "execution_count": 6,
   "id": "47b517d6",
   "metadata": {},
   "outputs": [],
   "source": [
    "df.to_csv('cuidado_personal_fsa_selenium.csv', index=False)"
   ]
  }
 ],
 "metadata": {
  "kernelspec": {
   "display_name": "fruits_neuronal",
   "language": "python",
   "name": "python3"
  },
  "language_info": {
   "codemirror_mode": {
    "name": "ipython",
    "version": 3
   },
   "file_extension": ".py",
   "mimetype": "text/x-python",
   "name": "python",
   "nbconvert_exporter": "python",
   "pygments_lexer": "ipython3",
   "version": "3.10.16"
  }
 },
 "nbformat": 4,
 "nbformat_minor": 5
}

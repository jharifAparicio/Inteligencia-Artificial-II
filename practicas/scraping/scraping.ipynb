{
 "cells": [
  {
   "cell_type": "code",
   "execution_count": null,
   "id": "613dce25",
   "metadata": {},
   "outputs": [],
   "source": [
    "!pip install requests beautifulsoup4 pandas"
   ]
  },
  {
   "cell_type": "code",
   "execution_count": null,
   "id": "9c4e230d",
   "metadata": {},
   "outputs": [],
   "source": [
    "!pip install duckduckgo_search"
   ]
  },
  {
   "cell_type": "markdown",
   "id": "50b578f6",
   "metadata": {},
   "source": [
    "# precios de laptops mercado libre bolivia"
   ]
  },
  {
   "cell_type": "markdown",
   "id": "c8a9aef5",
   "metadata": {},
   "source": [
    "1. modulos"
   ]
  },
  {
   "cell_type": "code",
   "execution_count": 10,
   "id": "c9f35aa3",
   "metadata": {},
   "outputs": [],
   "source": [
    "from duckduckgo_search import DDGS\n",
    "import requests\n",
    "import os\n",
    "import time"
   ]
  },
  {
   "cell_type": "code",
   "execution_count": 11,
   "id": "44feccfa",
   "metadata": {},
   "outputs": [],
   "source": [
    "def descargar_imagenes_ddg(query, cantidad=10):\n",
    "    carpeta = f'imagenes_frutas_verduras/{query}'\n",
    "    os.makedirs(carpeta, exist_ok=True)\n",
    "\n",
    "    with DDGS() as ddgs:\n",
    "        resultados = ddgs.images(query, max_results=cantidad)\n",
    "\n",
    "        print(f\"🔍 Descargando imágenes de '{query}'...\")\n",
    "\n",
    "        for i, resultado in enumerate(resultados):\n",
    "            try:\n",
    "                img_url = resultado['image']\n",
    "                img_data = requests.get(img_url, timeout=10).content\n",
    "                with open(f\"{carpeta}/{i}.jpg\", 'wb') as f:\n",
    "                    f.write(img_data)\n",
    "                print(f\"✅ Imagen {i+1} descargada\")\n",
    "            except Exception as e:\n",
    "                print(f\"❌ Error en imagen {i+1}: {e}\")"
   ]
  },
  {
   "cell_type": "markdown",
   "id": "93d72bdd",
   "metadata": {},
   "source": [
    "4. Extraer productos (título, precio, enlace)"
   ]
  },
  {
   "cell_type": "code",
   "execution_count": null,
   "id": "0eef11c2",
   "metadata": {},
   "outputs": [],
   "source": [
    "categorias = ['manzana', 'zanahoria', 'uva', 'tomate', 'plátano', 'lechuga']\n",
    "\n",
    "for cat in categorias:\n",
    "    descargar_imagenes_ddg(cat, cantidad=50)"
   ]
  },
  {
   "cell_type": "markdown",
   "id": "77e6cf30",
   "metadata": {},
   "source": [
    " 5. Guardar los datos en CSV"
   ]
  },
  {
   "cell_type": "code",
   "execution_count": null,
   "id": "57dae44e",
   "metadata": {},
   "outputs": [
    {
     "data": {
      "text/html": [
       "<div>\n",
       "<style scoped>\n",
       "    .dataframe tbody tr th:only-of-type {\n",
       "        vertical-align: middle;\n",
       "    }\n",
       "\n",
       "    .dataframe tbody tr th {\n",
       "        vertical-align: top;\n",
       "    }\n",
       "\n",
       "    .dataframe thead th {\n",
       "        text-align: right;\n",
       "    }\n",
       "</style>\n",
       "<table border=\"1\" class=\"dataframe\">\n",
       "  <thead>\n",
       "    <tr style=\"text-align: right;\">\n",
       "      <th></th>\n",
       "    </tr>\n",
       "  </thead>\n",
       "  <tbody>\n",
       "  </tbody>\n",
       "</table>\n",
       "</div>"
      ],
      "text/plain": [
       "Empty DataFrame\n",
       "Columns: []\n",
       "Index: []"
      ]
     },
     "execution_count": 5,
     "metadata": {},
     "output_type": "execute_result"
    }
   ],
   "source": [
    "from IPython.display import Image, display\n",
    "import os\n",
    "\n",
    "base_path = 'imagenes_frutas_verduras'\n",
    "\n",
    "for categoria in categorias:\n",
    "    carpeta = os.path.join(base_path, categoria)\n",
    "    print(f\"\\nMostrando imágenes de {categoria}:\")\n",
    "    for img_file in os.listdir(carpeta):\n",
    "        display(Image(filename=os.path.join(carpeta, img_file)))"
   ]
  }
 ],
 "metadata": {
  "kernelspec": {
   "display_name": "fruits_neuronal",
   "language": "python",
   "name": "python3"
  },
  "language_info": {
   "codemirror_mode": {
    "name": "ipython",
    "version": 3
   },
   "file_extension": ".py",
   "mimetype": "text/x-python",
   "name": "python",
   "nbconvert_exporter": "python",
   "pygments_lexer": "ipython3",
   "version": "3.10.16"
  }
 },
 "nbformat": 4,
 "nbformat_minor": 5
}

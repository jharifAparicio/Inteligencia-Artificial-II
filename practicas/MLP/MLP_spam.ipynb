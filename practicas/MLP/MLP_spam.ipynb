{
 "cells": [
  {
   "cell_type": "code",
   "execution_count": 1,
   "id": "3546e2e0",
   "metadata": {},
   "outputs": [
    {
     "name": "stdout",
     "output_type": "stream",
     "text": [
      "Usando dispositivo: cuda\n"
     ]
    }
   ],
   "source": [
    "import torch\n",
    "import torch.nn as nn\n",
    "import torch.optim as optim\n",
    "\n",
    "import pandas as pd\n",
    "import re\n",
    "from sklearn.model_selection import train_test_split\n",
    "from sklearn.metrics import accuracy_score, classification_report\n",
    "from sklearn.preprocessing import LabelEncoder\n",
    "from sklearn.feature_extraction.text import TfidfVectorizer\n",
    "import matplotlib.pyplot as plt\n",
    "# Usar GPU si está disponible\n",
    "device = torch.device(\"cuda\" if torch.cuda.is_available() else \"cpu\")\n",
    "print(f\"Usando dispositivo: {device}\")"
   ]
  },
  {
   "cell_type": "markdown",
   "id": "f3ef690c",
   "metadata": {},
   "source": [
    "# 2. Cargar y explorar el dataset"
   ]
  },
  {
   "cell_type": "code",
   "execution_count": 2,
   "id": "275e0d33",
   "metadata": {},
   "outputs": [
    {
     "name": "stdout",
     "output_type": "stream",
     "text": [
      "  label                                               text\n",
      "0   ham  Go until jurong point, crazy.. Available only ...\n",
      "1   ham                      Ok lar... Joking wif u oni...\n",
      "2  spam  Free entry in 2 a wkly comp to win FA Cup fina...\n",
      "3   ham  U dun say so early hor... U c already then say...\n",
      "4   ham  Nah I don't think he goes to usf, he lives aro...\n",
      "label\n",
      "ham     4825\n",
      "spam     747\n",
      "Name: count, dtype: int64\n"
     ]
    }
   ],
   "source": [
    "# Cargar archivo CSV\n",
    "df = pd.read_csv('spam.csv', encoding='latin-1')  # Ajusta el encoding si es necesario\n",
    "df = df[['v1', 'v2']]  # Asegúrate que las columnas se llamen así (v1: label, v2: texto)\n",
    "df.columns = ['label', 'text']\n",
    "\n",
    "print(df.head())\n",
    "print(df['label'].value_counts())\n"
   ]
  },
  {
   "cell_type": "markdown",
   "id": "7b464fd8",
   "metadata": {},
   "source": [
    "# 3. preprocesamiento"
   ]
  },
  {
   "cell_type": "code",
   "execution_count": 3,
   "id": "500ceec6",
   "metadata": {},
   "outputs": [],
   "source": [
    "# Codificar etiquetas\n",
    "le = LabelEncoder()\n",
    "df['label'] = le.fit_transform(df['label'])  # spam = 1, ham = 0\n",
    "\n",
    "# Vectorizar texto\n",
    "vectorizer = TfidfVectorizer(max_features=3000)\n",
    "X = vectorizer.fit_transform(df['text']).toarray()\n",
    "y = df['label'].values\n",
    "\n",
    "# Separar en conjunto de entrenamiento y prueba\n",
    "X_train, X_test, y_train, y_test = train_test_split(X, y, test_size=0.2, random_state=42)\n",
    "\n",
    "# Convertir a tensores de PyTorch\n",
    "X_train_tensor = torch.tensor(X_train, dtype=torch.float32).to(device)\n",
    "X_test_tensor = torch.tensor(X_test, dtype=torch.float32).to(device)\n",
    "y_train_tensor = torch.tensor(y_train, dtype=torch.float32).to(device)\n",
    "y_test_tensor = torch.tensor(y_test, dtype=torch.float32).to(device)"
   ]
  },
  {
   "cell_type": "markdown",
   "id": "90427ed7",
   "metadata": {},
   "source": [
    "# 6. definimos el modelo que usaremos MLP"
   ]
  },
  {
   "cell_type": "code",
   "execution_count": 4,
   "id": "bc48e840",
   "metadata": {},
   "outputs": [
    {
     "data": {
      "text/plain": [
       "SpamMLP(\n",
       "  (net): Sequential(\n",
       "    (0): Linear(in_features=3000, out_features=256, bias=True)\n",
       "    (1): ReLU()\n",
       "    (2): Dropout(p=0.3, inplace=False)\n",
       "    (3): Linear(in_features=256, out_features=128, bias=True)\n",
       "    (4): ReLU()\n",
       "    (5): Dropout(p=0.3, inplace=False)\n",
       "    (6): Linear(in_features=128, out_features=1, bias=True)\n",
       "    (7): Sigmoid()\n",
       "  )\n",
       ")"
      ]
     },
     "execution_count": 4,
     "metadata": {},
     "output_type": "execute_result"
    }
   ],
   "source": [
    "class SpamMLP(nn.Module):\n",
    "    def __init__(self, input_dim):\n",
    "        super(SpamMLP, self).__init__()\n",
    "        self.net = nn.Sequential(\n",
    "            nn.Linear(input_dim, 256),\n",
    "            nn.ReLU(),\n",
    "            nn.Dropout(0.3),\n",
    "            nn.Linear(256, 128),\n",
    "            nn.ReLU(),\n",
    "            nn.Dropout(0.3),\n",
    "            nn.Linear(128, 1),\n",
    "            nn.Sigmoid()\n",
    "        )\n",
    "    \n",
    "    def forward(self, x):\n",
    "        return self.net(x)\n",
    "\n",
    "model = SpamMLP(input_dim=X_train.shape[1])\n",
    "model.to(device)\n"
   ]
  },
  {
   "cell_type": "markdown",
   "id": "316095b4",
   "metadata": {},
   "source": [
    "# entrenamiento"
   ]
  },
  {
   "cell_type": "code",
   "execution_count": 5,
   "id": "b4a8d73d",
   "metadata": {},
   "outputs": [
    {
     "name": "stdout",
     "output_type": "stream",
     "text": [
      "Epoch 1/10, Loss: 0.0999\n",
      "Epoch 2/10, Loss: 0.0223\n",
      "Epoch 3/10, Loss: 0.0026\n",
      "Epoch 4/10, Loss: 0.0009\n",
      "Epoch 5/10, Loss: 0.0825\n",
      "Epoch 6/10, Loss: 0.0010\n",
      "Epoch 7/10, Loss: 0.0005\n",
      "Epoch 8/10, Loss: 0.0005\n",
      "Epoch 9/10, Loss: 0.0012\n",
      "Epoch 10/10, Loss: 0.0013\n"
     ]
    }
   ],
   "source": [
    "criterion = nn.BCELoss()\n",
    "optimizer = optim.Adam(model.parameters(), lr=0.001)\n",
    "epochs = 10\n",
    "batch_size = 64\n",
    "\n",
    "losses = []\n",
    "\n",
    "for epoch in range(epochs):\n",
    "    model.train()\n",
    "    permutation = torch.randperm(X_train_tensor.size()[0])\n",
    "\n",
    "    for i in range(0, X_train_tensor.size()[0], batch_size):\n",
    "        indices = permutation[i:i+batch_size]\n",
    "        batch_x, batch_y = X_train_tensor[indices], y_train_tensor[indices].view(-1, 1)\n",
    "        optimizer.zero_grad()\n",
    "        outputs = model(batch_x)\n",
    "        loss = criterion(outputs, batch_y)\n",
    "        loss.backward()\n",
    "        optimizer.step()\n",
    "    \n",
    "    losses.append(loss.item())\n",
    "    print(f\"Epoch {epoch+1}/{epochs}, Loss: {loss.item():.4f}\")\n"
   ]
  },
  {
   "cell_type": "markdown",
   "id": "1c06fb7d",
   "metadata": {},
   "source": [
    "# evaluacion"
   ]
  },
  {
   "cell_type": "code",
   "execution_count": 6,
   "id": "56be0d07",
   "metadata": {},
   "outputs": [
    {
     "name": "stdout",
     "output_type": "stream",
     "text": [
      "Accuracy: 0.979372197309417\n",
      "              precision    recall  f1-score   support\n",
      "\n",
      "         0.0       0.98      0.99      0.99       965\n",
      "         1.0       0.96      0.89      0.92       150\n",
      "\n",
      "    accuracy                           0.98      1115\n",
      "   macro avg       0.97      0.94      0.95      1115\n",
      "weighted avg       0.98      0.98      0.98      1115\n",
      "\n"
     ]
    }
   ],
   "source": [
    "model.eval()\n",
    "with torch.no_grad():\n",
    "    preds = model(X_test_tensor)\n",
    "    preds = (preds > 0.5).float().cpu().numpy()\n",
    "    y_true = y_test_tensor.cpu().numpy()\n",
    "\n",
    "print(\"Accuracy:\", accuracy_score(y_true, preds))\n",
    "print(classification_report(y_true, preds))"
   ]
  },
  {
   "cell_type": "markdown",
   "id": "20a74d2a",
   "metadata": {},
   "source": [
    "# visualizacion de perdida"
   ]
  },
  {
   "cell_type": "code",
   "execution_count": 7,
   "id": "013bcd27",
   "metadata": {},
   "outputs": [
    {
     "data": {
      "image/png": "[encoded data removed]",
      "text/plain": [
       "<Figure size 640x480 with 1 Axes>"
      ]
     },
     "metadata": {},
     "output_type": "display_data"
    }
   ],
   "source": [
    "plt.plot(losses)\n",
    "plt.title(\"Curva de pérdida\")\n",
    "plt.xlabel(\"Épocas\")\n",
    "plt.ylabel(\"Pérdida\")\n",
    "plt.show()\n"
   ]
  }
 ],
 "metadata": {
  "kernelspec": {
   "display_name": "fruits_neuronal",
   "language": "python",
   "name": "python3"
  },
  "language_info": {
   "codemirror_mode": {
    "name": "ipython",
    "version": 3
   },
   "file_extension": ".py",
   "mimetype": "text/x-python",
   "name": "python",
   "nbconvert_exporter": "python",
   "pygments_lexer": "ipython3",
   "version": "3.10.16"
  }
 },
 "nbformat": 4,
 "nbformat_minor": 5
}
